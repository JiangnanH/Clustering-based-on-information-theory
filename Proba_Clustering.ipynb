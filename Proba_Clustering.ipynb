{
 "cells": [
  {
   "cell_type": "code",
   "execution_count": 1,
   "metadata": {},
   "outputs": [],
   "source": [
    "import numpy as np\n",
    "import matplotlib.pyplot as plt\n"
   ]
  },
  {
   "cell_type": "code",
   "execution_count": 30,
   "metadata": {},
   "outputs": [],
   "source": [
    "file = open(\"./dataset/scatter_ds1.d\")"
   ]
  },
  {
   "cell_type": "code",
   "execution_count": 31,
   "metadata": {},
   "outputs": [],
   "source": [
    "data = []\n",
    "label = []\n",
    "for line in file:\n",
    "    line = line.strip().split(' ')\n",
    "    data.append([float(line[0]),float(line[1])])\n",
    "    label.append(int(line[2]))"
   ]
  },
  {
   "cell_type": "code",
   "execution_count": 32,
   "metadata": {},
   "outputs": [],
   "source": [
    "data = np.array(data)\n",
    "label = np.array(label)"
   ]
  },
  {
   "cell_type": "code",
   "execution_count": 33,
   "metadata": {},
   "outputs": [
    {
     "name": "stdout",
     "output_type": "stream",
     "text": [
      "(300, 2)\n",
      "(300,)\n"
     ]
    }
   ],
   "source": [
    "print(data.shape)\n",
    "print(label.shape)"
   ]
  },
  {
   "cell_type": "code",
   "execution_count": 41,
   "metadata": {},
   "outputs": [
    {
     "data": {
      "image/png": "[encoded data removed]",
      "text/plain": [
       "<Figure size 432x288 with 1 Axes>"
      ]
     },
     "metadata": {
      "needs_background": "light"
     },
     "output_type": "display_data"
    }
   ],
   "source": [
    "plt.figure()\n",
    "for i in range(len(data)):\n",
    "    if label[i] == 0:      \n",
    "        plt.scatter(data[i,0],data[i,1],color='r')\n",
    "    if label[i] == 1:\n",
    "        plt.scatter(data[i,0],data[i,1],color='b')\n",
    "    if label[i] == 2:\n",
    "        plt.scatter(data[i,0],data[i,1],color='g')"
   ]
  },
  {
   "cell_type": "code",
   "execution_count": 183,
   "metadata": {},
   "outputs": [],
   "source": [
    "file = open('./dataset/simil_ds1.d')\n",
    "\n",
    "mat_simil = []\n",
    "\n",
    "for line in file:\n",
    "    line = line.strip().split(' ')\n",
    "    mat_simil.append(list(float(line[i]) for i in range(len(line))))\n",
    "\n",
    "mat_simil = np.array(mat_simil)"
   ]
  },
  {
   "cell_type": "code",
   "execution_count": 185,
   "metadata": {},
   "outputs": [
    {
     "name": "stdout",
     "output_type": "stream",
     "text": [
      "(300, 300)\n"
     ]
    }
   ],
   "source": [
    "print(mat_simil.shape)"
   ]
  },
  {
   "cell_type": "code",
   "execution_count": 467,
   "metadata": {},
   "outputs": [],
   "source": [
    "class clustering:\n",
    "    \n",
    "    def __init__(self,simil,T,N_c,ε):\n",
    "        \n",
    "        self.simil = simil\n",
    "        self.T = T\n",
    "        self.N_c = N_c\n",
    "        self.ε = ε\n",
    "        \n",
    "        '''initialize'''\n",
    "        \n",
    "        self.N = simil.shape[0]\n",
    "        self.m = 0\n",
    "        \n",
    "        self.P_i = 1/self.N\n",
    "        self.P_c = np.zeros(self.N_c)\n",
    "        self.P_ci = np.zeros((self.N,self.N_c))\n",
    "        self.P_ic = np.zeros((self.N_c,self.N))\n",
    "        \n",
    "        self.S_c = np.zeros(self.N_c)\n",
    "        self.S_ci = np.zeros((self.N,self.N_c))\n",
    "\n",
    "        for i in range(N): \n",
    "            r_list = np.array(list(np.random.random() for _ in range(self.N_c)))\n",
    "            r_list = r_list/sum(r_list)\n",
    "            self.P_ci[i] = r_list\n",
    "            \n",
    "        self.update_value()\n",
    "        \n",
    "        \n",
    "    def fit(self):\n",
    "        \n",
    "        P_ci_new = np.zeros((self.N,self.N_c))\n",
    "        \n",
    "        stop = 0\n",
    "        \n",
    "        while stop == 0:\n",
    "            for i in range(self.N):\n",
    "                for c in range(self.N_c):\n",
    "                    P_ci_new[i][c] = self.P_c[c]*np.exp(1/self.T * (2*self.S_ci[i][c] - self.S_c[c]))\n",
    "                P_ci_new[i] = P_ci_new[i]/sum(P_ci_new[i])\n",
    "                \n",
    "                \n",
    "            self.m += 1\n",
    "            stop = 1\n",
    "            for i in range(self.N):\n",
    "                for c in range(self.N_c):\n",
    "                    if abs(P_ci_new[i][c] - self.P_ci[i][c]) > self.ε:\n",
    "                        stop = 0\n",
    "                        continue\n",
    "\n",
    "            for i in range(self.N):\n",
    "                for c in range(self.N_c):\n",
    "                    self.P_ci[i][c] = P_ci_new[i][c]\n",
    "\n",
    "            self.update_value()\n",
    "        \n",
    "        print(\"Iteration times:\",self.m)\n",
    "    \n",
    "    \n",
    "    def predict(self):\n",
    "        \n",
    "        predict_label = list(np.argmax(self.P_ci[i]) for i in range(self.N))\n",
    "        \n",
    "        predict_s = self.P_c.T @ self.S_c\n",
    "        \n",
    "        return predict_label, predict_s\n",
    "\n",
    "        \n",
    "    def update_value(self):\n",
    "            \n",
    "        '''compute P(C)'''\n",
    "        \n",
    "        for c in range(self.N_c):\n",
    "            self.P_c[c] = sum(self.P_ci[:,c]) * P_i\n",
    "        \n",
    "        '''compute P(i|C)'''\n",
    "\n",
    "        for i in range(self.N_c):\n",
    "            for j in range(N):\n",
    "                self.P_ic[i][j] = self.P_ci[j][i]*self.P_i / self.P_c[i]\n",
    "\n",
    "        '''compute S(C)'''\n",
    "\n",
    "        for c in range(self.N_c):\n",
    "            for i in range(self.N):\n",
    "                for j in range(self.N):\n",
    "                    self.S_c[c] += self.P_ic[c][i]*self.P_ic[c][j]*self.simil[i][j]\n",
    "\n",
    "        '''compute S(C;i)'''\n",
    "\n",
    "        for c in range(self.N_c):\n",
    "            for i in range(self.N):\n",
    "                for j in range(self.N):\n",
    "                    self.S_ci[i][c] += self.P_ic[c][j]*self.simil[i][j]\n"
   ]
  },
  {
   "cell_type": "code",
   "execution_count": 468,
   "metadata": {},
   "outputs": [],
   "source": [
    "cluster = clustering(mat_simil,1,3,0.01)"
   ]
  },
  {
   "cell_type": "code",
   "execution_count": 469,
   "metadata": {},
   "outputs": [
    {
     "name": "stdout",
     "output_type": "stream",
     "text": [
      "Iteration times: 17\n"
     ]
    }
   ],
   "source": [
    "cluster.fit()"
   ]
  },
  {
   "cell_type": "code",
   "execution_count": 470,
   "metadata": {},
   "outputs": [],
   "source": [
    "predict_label,predict_s = cluster.predict()"
   ]
  },
  {
   "cell_type": "code",
   "execution_count": 471,
   "metadata": {},
   "outputs": [
    {
     "name": "stdout",
     "output_type": "stream",
     "text": [
      "-23.696533872318014\n"
     ]
    }
   ],
   "source": [
    "print(predict_s)"
   ]
  },
  {
   "cell_type": "code",
   "execution_count": 472,
   "metadata": {},
   "outputs": [],
   "source": [
    "def visualize(data,label,N_c):\n",
    "\n",
    "    clusters = [[] for _ in range(N_c)]\n",
    "    \n",
    "    N = data.shape[0]\n",
    "    for i in range(N):\n",
    "        for c in range(N_c):\n",
    "            if label[i] == c:\n",
    "                clusters[c].append(data[i])\n",
    "                \n",
    "    plt.figure()\n",
    "    colors = 'rgbycm'\n",
    "    for c in range(N_c):\n",
    "        clusters[c] = np.array(clusters[c])\n",
    "        plt.scatter(clusters[c][:,0],clusters[c][:,1],c=colors[c])\n",
    "    "
   ]
  },
  {
   "cell_type": "code",
   "execution_count": 473,
   "metadata": {},
   "outputs": [
    {
     "data": {
      "image/png": "[encoded data removed]",
      "text/plain": [
       "<Figure size 432x288 with 1 Axes>"
      ]
     },
     "metadata": {
      "needs_background": "light"
     },
     "output_type": "display_data"
    }
   ],
   "source": [
    "visualize(data,predict_label,3)"
   ]
  },
  {
   "cell_type": "code",
   "execution_count": 464,
   "metadata": {},
   "outputs": [],
   "source": [
    "file = open('./dataset/simil_ds2.d')\n",
    "\n",
    "mat_simil1 = []\n",
    "\n",
    "for line in file:\n",
    "    line = line.strip().split(' ')\n",
    "    mat_simil1.append(list(float(line[i]) for i in range(len(line))))\n",
    "\n",
    "mat_simil1 = np.array(mat_simil1)"
   ]
  },
  {
   "cell_type": "code",
   "execution_count": 465,
   "metadata": {},
   "outputs": [],
   "source": [
    "s_list = []\n",
    "for c in range(2,10):\n",
    "    cluster = clustering(mat_simil1,1,c,0.01)\n",
    "    cluster.fit()\n",
    "    _,predict_s = cluster.predict()\n",
    "    s_list.append(predict_s)"
   ]
  },
  {
   "cell_type": "code",
   "execution_count": 466,
   "metadata": {},
   "outputs": [
    {
     "name": "stdout",
     "output_type": "stream",
     "text": [
      "[-203.71631764322282, -68.73956208831653, -49.36670217920116, -29.992310275842414, -71.63691182102991, -120.28007003541634, -94.65823976639516, -114.95753600440412]\n"
     ]
    }
   ],
   "source": [
    "'''Selon le resultat, 5 clusters sont présents'''\n",
    "print(s_list)"
   ]
  },
  {
   "cell_type": "code",
   "execution_count": 488,
   "metadata": {},
   "outputs": [],
   "source": [
    "fileSP_data = open('./dataset/SP500/sp500_data.d')\n",
    "fileSP_matType = open('./dataset/SP500/sp500_matType.d')\n",
    "\n",
    "dataSP_data = []\n",
    "dataSP_matType = []\n",
    "\n",
    "for line in fileSP_data:\n",
    "    line = line.strip().split(' ')\n",
    "    dataSP_data.append(list(float(line[i]) for i in range(len(line))))\n",
    "    \n",
    "for line in fileSP_matType:\n",
    "    line = line.strip().split(' ')\n",
    "    dataSP_matType.append(list(float(line[i]) for i in range(len(line))))\n",
    "    \n",
    "dataSP_data = np.array(dataSP_data)\n",
    "dataSP_matType = np.array(dataSP_matType)"
   ]
  },
  {
   "cell_type": "code",
   "execution_count": 549,
   "metadata": {},
   "outputs": [
    {
     "name": "stdout",
     "output_type": "stream",
     "text": [
      "(501, 273)\n",
      "(501, 208)\n"
     ]
    }
   ],
   "source": [
    "print(dataSP_data.shape)\n",
    "print(dataSP_matType.shape)"
   ]
  },
  {
   "cell_type": "code",
   "execution_count": 563,
   "metadata": {},
   "outputs": [],
   "source": [
    "M = dataSP_data.shape[1]"
   ]
  },
  {
   "cell_type": "code",
   "execution_count": 564,
   "metadata": {},
   "outputs": [],
   "source": [
    "min_list = [min(dataSP_data[i]) for i in range(M)]\n",
    "max_list = [max(dataSP_data[i]) for i in range(M)]"
   ]
  },
  {
   "cell_type": "code",
   "execution_count": 565,
   "metadata": {},
   "outputs": [
    {
     "name": "stdout",
     "output_type": "stream",
     "text": [
      "-0.28923\n",
      "0.34775\n"
     ]
    }
   ],
   "source": [
    "min_v = min(min_list)\n",
    "max_v = max(max_list)\n",
    "print(min_v)\n",
    "print(max_v)"
   ]
  },
  {
   "cell_type": "code",
   "execution_count": 566,
   "metadata": {},
   "outputs": [],
   "source": [
    "P_ei = np.zeros(M)\n",
    "def P_e(e, e_list):\n",
    "    \n",
    "    P = 0\n",
    "    for i in range(M):\n",
    "        P += 1 if e == e_list[i] else 0\n",
    "    \n",
    "    return P/M     "
   ]
  },
  {
   "cell_type": "code",
   "execution_count": 567,
   "metadata": {},
   "outputs": [
    {
     "name": "stdout",
     "output_type": "stream",
     "text": [
      "(273,)\n",
      "208\n"
     ]
    }
   ],
   "source": [
    "print(P_ei.shape)\n",
    "print(dataSP_matType[1].size)"
   ]
  },
  {
   "cell_type": "code",
   "execution_count": 568,
   "metadata": {},
   "outputs": [],
   "source": [
    "def P_e1_e2(e1,e2,e1_list,e2_list):\n",
    "    \n",
    "    P = 0\n",
    "    for i in range(e1_list.size):\n",
    "        P += (1 if e1 == e1_list[i] else 0) * (1 if e2 == e2_list[i] else 0)\n",
    "        \n",
    "    return P/M "
   ]
  },
  {
   "cell_type": "code",
   "execution_count": 569,
   "metadata": {},
   "outputs": [],
   "source": [
    "delta = 10**(-7)"
   ]
  },
  {
   "cell_type": "code",
   "execution_count": 576,
   "metadata": {},
   "outputs": [
    {
     "name": "stderr",
     "output_type": "stream",
     "text": [
      "/home/jiangnan/.local/lib/python3.6/site-packages/ipykernel_launcher.py:7: RuntimeWarning: divide by zero encountered in log2\n",
      "  import sys\n",
      "/home/jiangnan/.local/lib/python3.6/site-packages/ipykernel_launcher.py:7: RuntimeWarning: invalid value encountered in double_scalars\n",
      "  import sys\n"
     ]
    },
    {
     "ename": "KeyboardInterrupt",
     "evalue": "",
     "output_type": "error",
     "traceback": [
      "\u001b[0;31m---------------------------------------------------------------------------\u001b[0m",
      "\u001b[0;31mKeyboardInterrupt\u001b[0m                         Traceback (most recent call last)",
      "\u001b[0;32m<ipython-input-576-8b65b0a9abd0>\u001b[0m in \u001b[0;36m<module>\u001b[0;34m\u001b[0m\n\u001b[1;32m      5\u001b[0m     \u001b[0;32mwhile\u001b[0m \u001b[0mj\u001b[0m \u001b[0;34m<\u001b[0m\u001b[0mmax_v\u001b[0m\u001b[0;34m+\u001b[0m\u001b[0mdelta\u001b[0m\u001b[0;34m:\u001b[0m\u001b[0;34m\u001b[0m\u001b[0;34m\u001b[0m\u001b[0m\n\u001b[1;32m      6\u001b[0m \u001b[0;34m\u001b[0m\u001b[0m\n\u001b[0;32m----> 7\u001b[0;31m         \u001b[0ms\u001b[0m \u001b[0;34m+=\u001b[0m \u001b[0mP_e1_e2\u001b[0m\u001b[0;34m(\u001b[0m\u001b[0mi\u001b[0m\u001b[0;34m,\u001b[0m\u001b[0mj\u001b[0m\u001b[0;34m,\u001b[0m\u001b[0mdataSP_data\u001b[0m\u001b[0;34m[\u001b[0m\u001b[0;36m0\u001b[0m\u001b[0;34m]\u001b[0m\u001b[0;34m,\u001b[0m\u001b[0mdataSP_data\u001b[0m\u001b[0;34m[\u001b[0m\u001b[0;36m1\u001b[0m\u001b[0;34m]\u001b[0m\u001b[0;34m)\u001b[0m \u001b[0;34m*\u001b[0m \u001b[0mnp\u001b[0m\u001b[0;34m.\u001b[0m\u001b[0mlog2\u001b[0m\u001b[0;34m(\u001b[0m\u001b[0mP_e1_e2\u001b[0m\u001b[0;34m(\u001b[0m\u001b[0mi\u001b[0m\u001b[0;34m,\u001b[0m\u001b[0mj\u001b[0m\u001b[0;34m,\u001b[0m\u001b[0mdataSP_data\u001b[0m\u001b[0;34m[\u001b[0m\u001b[0;36m0\u001b[0m\u001b[0;34m]\u001b[0m\u001b[0;34m,\u001b[0m\u001b[0mdataSP_data\u001b[0m\u001b[0;34m[\u001b[0m\u001b[0;36m1\u001b[0m\u001b[0;34m]\u001b[0m\u001b[0;34m)\u001b[0m\u001b[0;34m/\u001b[0m\u001b[0;34m(\u001b[0m\u001b[0mP_e\u001b[0m\u001b[0;34m(\u001b[0m\u001b[0mi\u001b[0m\u001b[0;34m,\u001b[0m \u001b[0mdataSP_data\u001b[0m\u001b[0;34m[\u001b[0m\u001b[0;36m0\u001b[0m\u001b[0;34m]\u001b[0m\u001b[0;34m)\u001b[0m\u001b[0;34m*\u001b[0m\u001b[0mP_e\u001b[0m\u001b[0;34m(\u001b[0m\u001b[0mj\u001b[0m\u001b[0;34m,\u001b[0m \u001b[0mdataSP_data\u001b[0m\u001b[0;34m[\u001b[0m\u001b[0;36m1\u001b[0m\u001b[0;34m]\u001b[0m\u001b[0;34m)\u001b[0m\u001b[0;34m+\u001b[0m\u001b[0mdelta\u001b[0m\u001b[0;34m)\u001b[0m\u001b[0;34m)\u001b[0m\u001b[0;34m\u001b[0m\u001b[0;34m\u001b[0m\u001b[0m\n\u001b[0m\u001b[1;32m      8\u001b[0m         \u001b[0mi\u001b[0m \u001b[0;34m+=\u001b[0m \u001b[0mdelta\u001b[0m\u001b[0;34m\u001b[0m\u001b[0;34m\u001b[0m\u001b[0m\n\u001b[1;32m      9\u001b[0m         \u001b[0mj\u001b[0m \u001b[0;34m+=\u001b[0m \u001b[0mdelta\u001b[0m\u001b[0;34m\u001b[0m\u001b[0;34m\u001b[0m\u001b[0m\n",
      "\u001b[0;32m<ipython-input-568-107cde30f3e1>\u001b[0m in \u001b[0;36mP_e1_e2\u001b[0;34m(e1, e2, e1_list, e2_list)\u001b[0m\n\u001b[1;32m      3\u001b[0m     \u001b[0mP\u001b[0m \u001b[0;34m=\u001b[0m \u001b[0;36m0\u001b[0m\u001b[0;34m\u001b[0m\u001b[0;34m\u001b[0m\u001b[0m\n\u001b[1;32m      4\u001b[0m     \u001b[0;32mfor\u001b[0m \u001b[0mi\u001b[0m \u001b[0;32min\u001b[0m \u001b[0mrange\u001b[0m\u001b[0;34m(\u001b[0m\u001b[0me1_list\u001b[0m\u001b[0;34m.\u001b[0m\u001b[0msize\u001b[0m\u001b[0;34m)\u001b[0m\u001b[0;34m:\u001b[0m\u001b[0;34m\u001b[0m\u001b[0;34m\u001b[0m\u001b[0m\n\u001b[0;32m----> 5\u001b[0;31m         \u001b[0mP\u001b[0m \u001b[0;34m+=\u001b[0m \u001b[0;34m(\u001b[0m\u001b[0;36m1\u001b[0m \u001b[0;32mif\u001b[0m \u001b[0me1\u001b[0m \u001b[0;34m==\u001b[0m \u001b[0me1_list\u001b[0m\u001b[0;34m[\u001b[0m\u001b[0mi\u001b[0m\u001b[0;34m]\u001b[0m \u001b[0;32melse\u001b[0m \u001b[0;36m0\u001b[0m\u001b[0;34m)\u001b[0m \u001b[0;34m*\u001b[0m \u001b[0;34m(\u001b[0m\u001b[0;36m1\u001b[0m \u001b[0;32mif\u001b[0m \u001b[0me2\u001b[0m \u001b[0;34m==\u001b[0m \u001b[0me2_list\u001b[0m\u001b[0;34m[\u001b[0m\u001b[0mi\u001b[0m\u001b[0;34m]\u001b[0m \u001b[0;32melse\u001b[0m \u001b[0;36m0\u001b[0m\u001b[0;34m)\u001b[0m\u001b[0;34m\u001b[0m\u001b[0;34m\u001b[0m\u001b[0m\n\u001b[0m\u001b[1;32m      6\u001b[0m \u001b[0;34m\u001b[0m\u001b[0m\n\u001b[1;32m      7\u001b[0m     \u001b[0;32mreturn\u001b[0m \u001b[0mP\u001b[0m\u001b[0;34m/\u001b[0m\u001b[0mM\u001b[0m\u001b[0;34m\u001b[0m\u001b[0;34m\u001b[0m\u001b[0m\n",
      "\u001b[0;31mKeyboardInterrupt\u001b[0m: "
     ]
    }
   ],
   "source": [
    "s = 0\n",
    "i = min_v-delta\n",
    "j = min_v-delta\n",
    "while i < max_v+delta:\n",
    "    while j <max_v+delta:\n",
    "        \n",
    "        s += P_e1_e2(i,j,dataSP_data[0],dataSP_data[1]) * np.log2(P_e1_e2(i,j,dataSP_data[0],dataSP_data[1])/(P_e(i, dataSP_data[0])*P_e(j, dataSP_data[1])+delta))\n",
    "        i += delta\n",
    "        j += delta\n",
    "        \n",
    "    print(s)\n"
   ]
  },
  {
   "cell_type": "code",
   "execution_count": null,
   "metadata": {},
   "outputs": [],
   "source": []
  }
 ],
 "metadata": {
  "kernelspec": {
   "display_name": "Python 3",
   "language": "python",
   "name": "python3"
  },
  "language_info": {
   "codemirror_mode": {
    "name": "ipython",
    "version": 3
   },
   "file_extension": ".py",
   "mimetype": "text/x-python",
   "name": "python",
   "nbconvert_exporter": "python",
   "pygments_lexer": "ipython3",
   "version": "3.6.9"
  }
 },
 "nbformat": 4,
 "nbformat_minor": 2
}
