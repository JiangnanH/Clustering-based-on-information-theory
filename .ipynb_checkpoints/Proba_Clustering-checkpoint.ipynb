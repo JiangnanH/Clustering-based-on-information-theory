{
 "cells": [
  {
   "cell_type": "code",
   "execution_count": 1,
   "metadata": {},
   "outputs": [],
   "source": [
    "import numpy as np\n",
    "import matplotlib.pyplot as plt\n"
   ]
  },
  {
   "cell_type": "code",
   "execution_count": 30,
   "metadata": {},
   "outputs": [],
   "source": [
    "file = open(\"./dataset/scatter_ds1.d\")"
   ]
  },
  {
   "cell_type": "code",
   "execution_count": 31,
   "metadata": {},
   "outputs": [],
   "source": [
    "data = []\n",
    "label = []\n",
    "for line in file:\n",
    "    line = line.strip().split(' ')\n",
    "    data.append([float(line[0]),float(line[1])])\n",
    "    label.append(int(line[2]))"
   ]
  },
  {
   "cell_type": "code",
   "execution_count": 32,
   "metadata": {},
   "outputs": [],
   "source": [
    "data = np.array(data)\n",
    "label = np.array(label)"
   ]
  },
  {
   "cell_type": "code",
   "execution_count": 33,
   "metadata": {},
   "outputs": [
    {
     "name": "stdout",
     "output_type": "stream",
     "text": [
      "(300, 2)\n",
      "(300,)\n"
     ]
    }
   ],
   "source": [
    "print(data.shape)\n",
    "print(label.shape)"
   ]
  },
  {
   "cell_type": "code",
   "execution_count": 38,
   "metadata": {
    "scrolled": false
   },
   "outputs": [
    {
     "name": "stdout",
     "output_type": "stream",
     "text": [
      "[2 1 0 2 1 0 2 1 0 0 0 1 2 1 1 0 1 1 0 1 0 1 0 1 1 2 1 1 2 2 2 1 0 2 0 1 2\n",
      " 0 0 2 1 1 0 1 1 2 1 0 1 1 1 1 1 0 1 0 2 0 1 2 0 2 0 2 0 2 1 0 1 1 2 1 0 0\n",
      " 1 0 0 1 2 2 2 1 2 1 1 1 0 0 0 2 0 1 2 0 2 2 0 1 2 1 1 1 1 1 0 1 1 1 1 2 1\n",
      " 0 2 0 1 1 0 1 2 0 2 2 0 0 1 2 1 1 1 2 0 0 0 2 1 1 1 1 0 1 1 2 0 1 0 0 0 2\n",
      " 0 0 0 1 2 2 2 0 0 0 1 2 2 2 2 1 0 0 0 2 2 0 2 1 1 0 1 1 1 1 0 2 1 1 1 1 2\n",
      " 1 0 2 0 2 1 0 2 1 0 1 1 1 2 0 0 1 0 0 0 0 1 0 2 0 1 0 0 1 1 0 1 0 2 2 0 0\n",
      " 1 2 1 1 0 1 1 1 0 1 1 1 1 0 0 1 2 0 0 1 1 0 2 2 2 2 1 1 0 0 1 0 1 0 1 2 2\n",
      " 1 1 0 1 1 1 0 1 1 0 1 1 1 1 2 2 1 0 2 0 1 1 1 1 1 2 0 0 1 2 2 2 2 0 1 1 0\n",
      " 1 2 1 0]\n"
     ]
    }
   ],
   "source": [
    "print(label)"
   ]
  },
  {
   "cell_type": "code",
   "execution_count": 41,
   "metadata": {},
   "outputs": [
    {
     "data": {
      "image/png": "[encoded data removed]",
      "text/plain": [
       "<Figure size 432x288 with 1 Axes>"
      ]
     },
     "metadata": {
      "needs_background": "light"
     },
     "output_type": "display_data"
    }
   ],
   "source": [
    "plt.figure()\n",
    "for i in range(len(data)):\n",
    "    if label[i] == 0:      \n",
    "        plt.scatter(data[i,0],data[i,1],color='r')\n",
    "    if label[i] == 1:\n",
    "        plt.scatter(data[i,0],data[i,1],color='b')\n",
    "    if label[i] == 2:\n",
    "        plt.scatter(data[i,0],data[i,1],color='g')"
   ]
  },
  {
   "cell_type": "code",
   "execution_count": 182,
   "metadata": {},
   "outputs": [],
   "source": [
    "file = open('./dataset/simil_ds1.d')"
   ]
  },
  {
   "cell_type": "code",
   "execution_count": 183,
   "metadata": {},
   "outputs": [],
   "source": [
    "mat_simil = []\n",
    "for line in file:\n",
    "    line = line.strip().split(' ')\n",
    "    mat_simil.append(list(float(line[i]) for i in range(len(line))))"
   ]
  },
  {
   "cell_type": "code",
   "execution_count": 184,
   "metadata": {},
   "outputs": [],
   "source": [
    "mat_simil = np.array(mat_simil)"
   ]
  },
  {
   "cell_type": "code",
   "execution_count": 185,
   "metadata": {},
   "outputs": [
    {
     "name": "stdout",
     "output_type": "stream",
     "text": [
      "(300, 300)\n"
     ]
    }
   ],
   "source": [
    "print(mat_simil.shape)"
   ]
  },
  {
   "cell_type": "code",
   "execution_count": 449,
   "metadata": {},
   "outputs": [],
   "source": [
    "class clustering:\n",
    "    \n",
    "    def __init__(self,simil,T,N_c,ε):\n",
    "        self.simil = simil\n",
    "        self.T = T\n",
    "        self.N_c = N_c\n",
    "        self.ε = ε\n",
    "        \n",
    "        '''initialize'''\n",
    "        \n",
    "        self.N = simil.shape[0]\n",
    "        self.m = 0\n",
    "        \n",
    "        self.P_i = 1/self.N\n",
    "        self.P_c = np.zeros(self.N_c)\n",
    "        self.P_ci = np.zeros((self.N,self.N_c))\n",
    "        self.P_ic = np.zeros((self.N_c,self.N))\n",
    "        \n",
    "        self.S_c = np.zeros(self.N_c)\n",
    "        self.S_ci = np.zeros((self.N,self.N_c))\n",
    "\n",
    "        for i in range(N): \n",
    "            r_list = np.array(list(np.random.random() for _ in range(self.N_c)))\n",
    "            r_list = r_list/sum(r_list)\n",
    "            self.P_ci[i] = r_list\n",
    "            \n",
    "        self.update_value()\n",
    "        \n",
    "        \n",
    "    def fit(self):\n",
    "        \n",
    "        P_ci_new = np.zeros((self.N,self.N_c))\n",
    "        \n",
    "        stop = 0\n",
    "        \n",
    "        while stop == 0:\n",
    "            for i in range(self.N):\n",
    "                for c in range(self.N_c):\n",
    "                    P_ci_new[i][c] = self.P_c[c]*np.exp(1/self.T * (2*self.S_ci[i][c] - self.S_c[c]))\n",
    "                P_ci_new[i] = P_ci_new[i]/sum(P_ci_new[i])\n",
    "                \n",
    "                \n",
    "            self.m += 1\n",
    "            stop = 1\n",
    "            for i in range(self.N):\n",
    "                for c in range(self.N_c):\n",
    "                    if abs(P_ci_new[i][c] - self.P_ci[i][c]) > self.ε:\n",
    "                        stop = 0\n",
    "                        continue\n",
    "\n",
    "            for i in range(self.N):\n",
    "                for c in range(self.N_c):\n",
    "                    self.P_ci[i][c] = P_ci_new[i][c]\n",
    "\n",
    "            self.update_value()\n",
    "        \n",
    "        print(\"Iteration times:\",self.m)\n",
    "    \n",
    "    def predict(self):\n",
    "        \n",
    "        predict_label = list(np.argmax(self.P_ci[i]) for i in range(self.N))\n",
    "        \n",
    "        predict_s = self.P_c.T @ self.S_c\n",
    "        \n",
    "        return predict_label, predict_s\n",
    "\n",
    "        \n",
    "    def update_value(self):\n",
    "            \n",
    "        '''compute P(C)'''\n",
    "        \n",
    "        for c in range(self.N_c):\n",
    "            self.P_c[c] = sum(self.P_ci[:,c]) * P_i\n",
    "        \n",
    "        '''compute P(i|C)'''\n",
    "\n",
    "        for i in range(self.N_c):\n",
    "            for j in range(N):\n",
    "                self.P_ic[i][j] = self.P_ci[j][i]*self.P_i / self.P_c[i]\n",
    "\n",
    "        '''compute S(C)'''\n",
    "\n",
    "        for c in range(self.N_c):\n",
    "            for i in range(self.N):\n",
    "                for j in range(self.N):\n",
    "                    self.S_c[c] += self.P_ic[c][i]*self.P_ic[c][j]*self.simil[i][j]\n",
    "\n",
    "        '''compute S(C;i)'''\n",
    "\n",
    "        for c in range(self.N_c):\n",
    "            for i in range(self.N):\n",
    "                for j in range(self.N):\n",
    "                    self.S_ci[i][c] += self.P_ic[c][j]*self.simil[i][j]\n"
   ]
  },
  {
   "cell_type": "code",
   "execution_count": 450,
   "metadata": {},
   "outputs": [],
   "source": [
    "cluster = clustering(mat_simil,1,4,0.01)"
   ]
  },
  {
   "cell_type": "code",
   "execution_count": 451,
   "metadata": {},
   "outputs": [],
   "source": [
    "cluster.fit()"
   ]
  },
  {
   "cell_type": "code",
   "execution_count": 452,
   "metadata": {},
   "outputs": [],
   "source": [
    "predict_label,predict_s = cluster.predict()"
   ]
  },
  {
   "cell_type": "code",
   "execution_count": 453,
   "metadata": {},
   "outputs": [
    {
     "name": "stdout",
     "output_type": "stream",
     "text": [
      "-50.1059525120487\n"
     ]
    }
   ],
   "source": [
    "print(predict_s)"
   ]
  },
  {
   "cell_type": "code",
   "execution_count": 460,
   "metadata": {},
   "outputs": [],
   "source": [
    "def visualize(data,label,N_c):\n",
    "\n",
    "    clusters = [[] for _ in range(N_c)]\n",
    "    \n",
    "    N = data.shape[0]\n",
    "    for i in range(N):\n",
    "        for c in range(N_c):\n",
    "            if label[i] == c:\n",
    "                clusters[c].append(data[i])\n",
    "                \n",
    "    plt.figure()\n",
    "    colors = 'rgbycm'\n",
    "    for c in range(N_c):\n",
    "        clusters[c] = np.array(clusters[c])\n",
    "        plt.scatter(clusters[c][:,0],clusters[c][:,1],c=colors[c])\n",
    "    "
   ]
  },
  {
   "cell_type": "code",
   "execution_count": 461,
   "metadata": {},
   "outputs": [
    {
     "data": {
      "image/png": "[encoded data removed]",
      "text/plain": [
       "<Figure size 432x288 with 1 Axes>"
      ]
     },
     "metadata": {
      "needs_background": "light"
     },
     "output_type": "display_data"
    }
   ],
   "source": [
    "visualize(data,predict_label,4)"
   ]
  },
  {
   "cell_type": "code",
   "execution_count": null,
   "metadata": {},
   "outputs": [],
   "source": []
  }
 ],
 "metadata": {
  "kernelspec": {
   "display_name": "Python 3",
   "language": "python",
   "name": "python3"
  },
  "language_info": {
   "codemirror_mode": {
    "name": "ipython",
    "version": 3
   },
   "file_extension": ".py",
   "mimetype": "text/x-python",
   "name": "python",
   "nbconvert_exporter": "python",
   "pygments_lexer": "ipython3",
   "version": "3.6.9"
  }
 },
 "nbformat": 4,
 "nbformat_minor": 2
}
